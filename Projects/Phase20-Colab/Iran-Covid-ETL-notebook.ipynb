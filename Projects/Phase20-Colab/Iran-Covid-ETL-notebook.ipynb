{
  "nbformat": 4,
  "nbformat_minor": 2,
  "metadata": {
    "colab": {
      "name": "Iran-Covid-ETL-notebook.ipynb",
      "provenance": [],
      "collapsed_sections": [],
      "toc_visible": true,
      "authorship_tag": "ABX9TyOvw/Xo/bFcIhshZ6/zjsuU",
      "include_colab_link": true
    },
    "kernelspec": {
      "name": "python3",
      "display_name": "Python 3"
    },
    "language_info": {
      "name": "python"
    }
  },
  "cells": [
    {
      "cell_type": "markdown",
      "source": [
        "<a href=\"https://colab.research.google.com/github/Star-Academy/codestar-internship/blob/feature%2FSE-phase20/Projects/Phase20-Colab/Iran-Covid-ETL-notebook.ipynb\" target=\"_parent\"><img src=\"https://colab.research.google.com/assets/colab-badge.svg\" alt=\"Open In Colab\"/></a>"
      ],
      "metadata": {
        "id": "view-in-github",
        "colab_type": "text"
      }
    },
    {
      "cell_type": "markdown",
      "source": [
        "# Iran Covid 19 ETL"
      ],
      "metadata": {
        "id": "_JqDWiJpjP1E"
      }
    },
    {
      "cell_type": "markdown",
      "source": [
        "First of all we collect data from from this open source repository, which hosts latest stats for Covid-19 in many countries:\r\n",
        "\r\n",
        "https://github.com/owid/covid-19-data/tree/master/public/data\r\n",
        "\r\n",
        "Hint: you can use pandas cheat sheet to fill cells with code\r\n",
        "\r\n",
        "https://pandas.pydata.org/Pandas_Cheat_Sheet.pdf\r\n"
      ],
      "metadata": {
        "id": "6tEcMlLWju5T"
      }
    },
    {
      "cell_type": "markdown",
      "source": [
        "## Import Dataset"
      ],
      "metadata": {
        "id": "hPlAcponGm-E"
      }
    },
    {
      "cell_type": "code",
      "execution_count": null,
      "source": [
        "##############################################################\r\n",
        "###### DO NOT CHANGE THIS CELL\r\n",
        "##############################################################\r\n",
        "import pandas as pd\r\n",
        "\r\n",
        "case_and_death_url = 'https://raw.githubusercontent.com/owid/covid-19-data/master/public/data/owid-covid-data.csv'\r\n",
        "vaccinations_url = 'https://raw.githubusercontent.com/owid/covid-19-data/master/public/data/vaccinations/vaccinations.csv'\r\n",
        "\r\n",
        "data = pd.read_csv(\r\n",
        "    case_and_death_url,\r\n",
        "    index_col=['date'],\r\n",
        "    parse_dates=['date'],\r\n",
        "    usecols=[\"date\", \"location\", \"new_cases\", \"new_deaths\"])\r\n",
        "\r\n",
        "display(data)"
      ],
      "outputs": [
        {
          "output_type": "display_data",
          "data": {
            "text/html": [
              "<div>\n",
              "<style scoped>\n",
              "    .dataframe tbody tr th:only-of-type {\n",
              "        vertical-align: middle;\n",
              "    }\n",
              "\n",
              "    .dataframe tbody tr th {\n",
              "        vertical-align: top;\n",
              "    }\n",
              "\n",
              "    .dataframe thead th {\n",
              "        text-align: right;\n",
              "    }\n",
              "</style>\n",
              "<table border=\"1\" class=\"dataframe\">\n",
              "  <thead>\n",
              "    <tr style=\"text-align: right;\">\n",
              "      <th></th>\n",
              "      <th>location</th>\n",
              "      <th>new_cases</th>\n",
              "      <th>new_deaths</th>\n",
              "    </tr>\n",
              "    <tr>\n",
              "      <th>date</th>\n",
              "      <th></th>\n",
              "      <th></th>\n",
              "      <th></th>\n",
              "    </tr>\n",
              "  </thead>\n",
              "  <tbody>\n",
              "    <tr>\n",
              "      <th>2020-02-24</th>\n",
              "      <td>Afghanistan</td>\n",
              "      <td>1.0</td>\n",
              "      <td>NaN</td>\n",
              "    </tr>\n",
              "    <tr>\n",
              "      <th>2020-02-25</th>\n",
              "      <td>Afghanistan</td>\n",
              "      <td>0.0</td>\n",
              "      <td>NaN</td>\n",
              "    </tr>\n",
              "    <tr>\n",
              "      <th>2020-02-26</th>\n",
              "      <td>Afghanistan</td>\n",
              "      <td>0.0</td>\n",
              "      <td>NaN</td>\n",
              "    </tr>\n",
              "    <tr>\n",
              "      <th>2020-02-27</th>\n",
              "      <td>Afghanistan</td>\n",
              "      <td>0.0</td>\n",
              "      <td>NaN</td>\n",
              "    </tr>\n",
              "    <tr>\n",
              "      <th>2020-02-28</th>\n",
              "      <td>Afghanistan</td>\n",
              "      <td>0.0</td>\n",
              "      <td>NaN</td>\n",
              "    </tr>\n",
              "    <tr>\n",
              "      <th>...</th>\n",
              "      <td>...</td>\n",
              "      <td>...</td>\n",
              "      <td>...</td>\n",
              "    </tr>\n",
              "    <tr>\n",
              "      <th>2021-08-13</th>\n",
              "      <td>Zimbabwe</td>\n",
              "      <td>754.0</td>\n",
              "      <td>26.0</td>\n",
              "    </tr>\n",
              "    <tr>\n",
              "      <th>2021-08-14</th>\n",
              "      <td>Zimbabwe</td>\n",
              "      <td>345.0</td>\n",
              "      <td>17.0</td>\n",
              "    </tr>\n",
              "    <tr>\n",
              "      <th>2021-08-15</th>\n",
              "      <td>Zimbabwe</td>\n",
              "      <td>235.0</td>\n",
              "      <td>19.0</td>\n",
              "    </tr>\n",
              "    <tr>\n",
              "      <th>2021-08-16</th>\n",
              "      <td>Zimbabwe</td>\n",
              "      <td>0.0</td>\n",
              "      <td>0.0</td>\n",
              "    </tr>\n",
              "    <tr>\n",
              "      <th>2021-08-17</th>\n",
              "      <td>Zimbabwe</td>\n",
              "      <td>958.0</td>\n",
              "      <td>47.0</td>\n",
              "    </tr>\n",
              "  </tbody>\n",
              "</table>\n",
              "<p>110270 rows × 3 columns</p>\n",
              "</div>"
            ],
            "text/plain": [
              "               location  new_cases  new_deaths\n",
              "date                                          \n",
              "2020-02-24  Afghanistan        1.0         NaN\n",
              "2020-02-25  Afghanistan        0.0         NaN\n",
              "2020-02-26  Afghanistan        0.0         NaN\n",
              "2020-02-27  Afghanistan        0.0         NaN\n",
              "2020-02-28  Afghanistan        0.0         NaN\n",
              "...                 ...        ...         ...\n",
              "2021-08-13     Zimbabwe      754.0        26.0\n",
              "2021-08-14     Zimbabwe      345.0        17.0\n",
              "2021-08-15     Zimbabwe      235.0        19.0\n",
              "2021-08-16     Zimbabwe        0.0         0.0\n",
              "2021-08-17     Zimbabwe      958.0        47.0\n",
              "\n",
              "[110270 rows x 3 columns]"
            ]
          },
          "metadata": {
            "tags": []
          }
        }
      ],
      "metadata": {
        "id": "gmszNiQ3h_ua",
        "colab": {
          "base_uri": "https://localhost:8080/",
          "height": 454
        },
        "outputId": "8e45b3bd-379e-49d5-ddb3-6fa11dd1ff52"
      }
    },
    {
      "cell_type": "markdown",
      "source": [
        "## Filter data by location\r\n",
        "\r\n",
        "Remove rows of all locations except 'Iran' from data"
      ],
      "metadata": {
        "id": "lcIpsOalGrcj"
      }
    },
    {
      "cell_type": "code",
      "execution_count": null,
      "source": [
        "##############################################################\r\n",
        "###### DO NOT CHANGE THIS CELL\r\n",
        "##############################################################\r\n",
        "data = data[data['location'] == 'Iran']\r\n",
        "display(data)"
      ],
      "outputs": [
        {
          "output_type": "display_data",
          "data": {
            "text/html": [
              "<div>\n",
              "<style scoped>\n",
              "    .dataframe tbody tr th:only-of-type {\n",
              "        vertical-align: middle;\n",
              "    }\n",
              "\n",
              "    .dataframe tbody tr th {\n",
              "        vertical-align: top;\n",
              "    }\n",
              "\n",
              "    .dataframe thead th {\n",
              "        text-align: right;\n",
              "    }\n",
              "</style>\n",
              "<table border=\"1\" class=\"dataframe\">\n",
              "  <thead>\n",
              "    <tr style=\"text-align: right;\">\n",
              "      <th></th>\n",
              "      <th>location</th>\n",
              "      <th>new_cases</th>\n",
              "      <th>new_deaths</th>\n",
              "    </tr>\n",
              "    <tr>\n",
              "      <th>date</th>\n",
              "      <th></th>\n",
              "      <th></th>\n",
              "      <th></th>\n",
              "    </tr>\n",
              "  </thead>\n",
              "  <tbody>\n",
              "    <tr>\n",
              "      <th>2020-02-19</th>\n",
              "      <td>Iran</td>\n",
              "      <td>2.0</td>\n",
              "      <td>2.0</td>\n",
              "    </tr>\n",
              "    <tr>\n",
              "      <th>2020-02-20</th>\n",
              "      <td>Iran</td>\n",
              "      <td>3.0</td>\n",
              "      <td>0.0</td>\n",
              "    </tr>\n",
              "    <tr>\n",
              "      <th>2020-02-21</th>\n",
              "      <td>Iran</td>\n",
              "      <td>13.0</td>\n",
              "      <td>2.0</td>\n",
              "    </tr>\n",
              "    <tr>\n",
              "      <th>2020-02-22</th>\n",
              "      <td>Iran</td>\n",
              "      <td>10.0</td>\n",
              "      <td>1.0</td>\n",
              "    </tr>\n",
              "    <tr>\n",
              "      <th>2020-02-23</th>\n",
              "      <td>Iran</td>\n",
              "      <td>15.0</td>\n",
              "      <td>3.0</td>\n",
              "    </tr>\n",
              "    <tr>\n",
              "      <th>...</th>\n",
              "      <td>...</td>\n",
              "      <td>...</td>\n",
              "      <td>...</td>\n",
              "    </tr>\n",
              "    <tr>\n",
              "      <th>2021-08-13</th>\n",
              "      <td>Iran</td>\n",
              "      <td>39119.0</td>\n",
              "      <td>527.0</td>\n",
              "    </tr>\n",
              "    <tr>\n",
              "      <th>2021-08-14</th>\n",
              "      <td>Iran</td>\n",
              "      <td>29700.0</td>\n",
              "      <td>466.0</td>\n",
              "    </tr>\n",
              "    <tr>\n",
              "      <th>2021-08-15</th>\n",
              "      <td>Iran</td>\n",
              "      <td>36736.0</td>\n",
              "      <td>620.0</td>\n",
              "    </tr>\n",
              "    <tr>\n",
              "      <th>2021-08-16</th>\n",
              "      <td>Iran</td>\n",
              "      <td>41194.0</td>\n",
              "      <td>655.0</td>\n",
              "    </tr>\n",
              "    <tr>\n",
              "      <th>2021-08-17</th>\n",
              "      <td>Iran</td>\n",
              "      <td>50228.0</td>\n",
              "      <td>625.0</td>\n",
              "    </tr>\n",
              "  </tbody>\n",
              "</table>\n",
              "<p>546 rows × 3 columns</p>\n",
              "</div>"
            ],
            "text/plain": [
              "           location  new_cases  new_deaths\n",
              "date                                      \n",
              "2020-02-19     Iran        2.0         2.0\n",
              "2020-02-20     Iran        3.0         0.0\n",
              "2020-02-21     Iran       13.0         2.0\n",
              "2020-02-22     Iran       10.0         1.0\n",
              "2020-02-23     Iran       15.0         3.0\n",
              "...             ...        ...         ...\n",
              "2021-08-13     Iran    39119.0       527.0\n",
              "2021-08-14     Iran    29700.0       466.0\n",
              "2021-08-15     Iran    36736.0       620.0\n",
              "2021-08-16     Iran    41194.0       655.0\n",
              "2021-08-17     Iran    50228.0       625.0\n",
              "\n",
              "[546 rows x 3 columns]"
            ]
          },
          "metadata": {
            "tags": []
          }
        }
      ],
      "metadata": {
        "colab": {
          "base_uri": "https://localhost:8080/",
          "height": 454
        },
        "id": "Rh1rDy3CmIUy",
        "outputId": "b810bda8-6e79-4fca-dff6-b04819238c09"
      }
    },
    {
      "cell_type": "markdown",
      "source": [
        "## Add 7-day average column for new_cases\r\n",
        "\r\n",
        "Calculate new columns with name 'new_cases_ma7' with value of  7-day average of new_cases column"
      ],
      "metadata": {
        "id": "7EXLMYe9Gy6C"
      }
    },
    {
      "cell_type": "code",
      "execution_count": null,
      "source": [
        "data['new_cases_ma7'] = ### FILL HERE WITH YOUR CODE\r\n",
        "\r\n",
        "display(data)"
      ],
      "outputs": [
        {
          "output_type": "display_data",
          "data": {
            "text/html": [
              "<div>\n",
              "<style scoped>\n",
              "    .dataframe tbody tr th:only-of-type {\n",
              "        vertical-align: middle;\n",
              "    }\n",
              "\n",
              "    .dataframe tbody tr th {\n",
              "        vertical-align: top;\n",
              "    }\n",
              "\n",
              "    .dataframe thead th {\n",
              "        text-align: right;\n",
              "    }\n",
              "</style>\n",
              "<table border=\"1\" class=\"dataframe\">\n",
              "  <thead>\n",
              "    <tr style=\"text-align: right;\">\n",
              "      <th></th>\n",
              "      <th>location</th>\n",
              "      <th>new_cases</th>\n",
              "      <th>new_deaths</th>\n",
              "      <th>new_cases_ma7</th>\n",
              "    </tr>\n",
              "    <tr>\n",
              "      <th>date</th>\n",
              "      <th></th>\n",
              "      <th></th>\n",
              "      <th></th>\n",
              "      <th></th>\n",
              "    </tr>\n",
              "  </thead>\n",
              "  <tbody>\n",
              "    <tr>\n",
              "      <th>2020-02-19</th>\n",
              "      <td>Iran</td>\n",
              "      <td>2.0</td>\n",
              "      <td>2.0</td>\n",
              "      <td>NaN</td>\n",
              "    </tr>\n",
              "    <tr>\n",
              "      <th>2020-02-20</th>\n",
              "      <td>Iran</td>\n",
              "      <td>3.0</td>\n",
              "      <td>0.0</td>\n",
              "      <td>NaN</td>\n",
              "    </tr>\n",
              "    <tr>\n",
              "      <th>2020-02-21</th>\n",
              "      <td>Iran</td>\n",
              "      <td>13.0</td>\n",
              "      <td>2.0</td>\n",
              "      <td>NaN</td>\n",
              "    </tr>\n",
              "    <tr>\n",
              "      <th>2020-02-22</th>\n",
              "      <td>Iran</td>\n",
              "      <td>10.0</td>\n",
              "      <td>1.0</td>\n",
              "      <td>NaN</td>\n",
              "    </tr>\n",
              "    <tr>\n",
              "      <th>2020-02-23</th>\n",
              "      <td>Iran</td>\n",
              "      <td>15.0</td>\n",
              "      <td>3.0</td>\n",
              "      <td>NaN</td>\n",
              "    </tr>\n",
              "    <tr>\n",
              "      <th>...</th>\n",
              "      <td>...</td>\n",
              "      <td>...</td>\n",
              "      <td>...</td>\n",
              "      <td>...</td>\n",
              "    </tr>\n",
              "    <tr>\n",
              "      <th>2021-08-13</th>\n",
              "      <td>Iran</td>\n",
              "      <td>39119.0</td>\n",
              "      <td>527.0</td>\n",
              "      <td>38102.000000</td>\n",
              "    </tr>\n",
              "    <tr>\n",
              "      <th>2021-08-14</th>\n",
              "      <td>Iran</td>\n",
              "      <td>29700.0</td>\n",
              "      <td>466.0</td>\n",
              "      <td>38567.857143</td>\n",
              "    </tr>\n",
              "    <tr>\n",
              "      <th>2021-08-15</th>\n",
              "      <td>Iran</td>\n",
              "      <td>36736.0</td>\n",
              "      <td>620.0</td>\n",
              "      <td>38156.000000</td>\n",
              "    </tr>\n",
              "    <tr>\n",
              "      <th>2021-08-16</th>\n",
              "      <td>Iran</td>\n",
              "      <td>41194.0</td>\n",
              "      <td>655.0</td>\n",
              "      <td>38211.142857</td>\n",
              "    </tr>\n",
              "    <tr>\n",
              "      <th>2021-08-17</th>\n",
              "      <td>Iran</td>\n",
              "      <td>50228.0</td>\n",
              "      <td>625.0</td>\n",
              "      <td>39795.285714</td>\n",
              "    </tr>\n",
              "  </tbody>\n",
              "</table>\n",
              "<p>546 rows × 4 columns</p>\n",
              "</div>"
            ],
            "text/plain": [
              "           location  new_cases  new_deaths  new_cases_ma7\n",
              "date                                                     \n",
              "2020-02-19     Iran        2.0         2.0            NaN\n",
              "2020-02-20     Iran        3.0         0.0            NaN\n",
              "2020-02-21     Iran       13.0         2.0            NaN\n",
              "2020-02-22     Iran       10.0         1.0            NaN\n",
              "2020-02-23     Iran       15.0         3.0            NaN\n",
              "...             ...        ...         ...            ...\n",
              "2021-08-13     Iran    39119.0       527.0   38102.000000\n",
              "2021-08-14     Iran    29700.0       466.0   38567.857143\n",
              "2021-08-15     Iran    36736.0       620.0   38156.000000\n",
              "2021-08-16     Iran    41194.0       655.0   38211.142857\n",
              "2021-08-17     Iran    50228.0       625.0   39795.285714\n",
              "\n",
              "[546 rows x 4 columns]"
            ]
          },
          "metadata": {
            "tags": []
          }
        }
      ],
      "metadata": {
        "colab": {
          "base_uri": "https://localhost:8080/",
          "height": 454
        },
        "id": "NQ9E_aTb2Bg-",
        "outputId": "dcd453b6-cb85-46cc-a99a-c598323a91a3"
      }
    },
    {
      "cell_type": "markdown",
      "source": [
        "## Plot new_cases & new_cases_ma7"
      ],
      "metadata": {
        "id": "uXgbML2QHFyE"
      }
    },
    {
      "cell_type": "code",
      "execution_count": null,
      "source": [
        "import matplotlib.pyplot as plt\n",
        "\n",
        "# Color\n",
        "case_color = '#FFA500'\n",
        "\n",
        "#################################\n",
        "### FILL HERE WITH YOUR CODE\n",
        "#################################"
      ],
      "outputs": [
        {
          "output_type": "execute_result",
          "data": {
            "text/plain": [
              "Text(-20, 0, 'New\\ncases')"
            ]
          },
          "metadata": {
            "tags": []
          },
          "execution_count": 4
        },
        {
          "output_type": "display_data",
          "data": {
            "image/png": "[encoded data removed]",
            "text/plain": [
              "<Figure size 3000x1200 with 1 Axes>"
            ]
          },
          "metadata": {
            "tags": [],
            "needs_background": "light"
          }
        }
      ],
      "metadata": {
        "colab": {
          "base_uri": "https://localhost:8080/",
          "height": 574
        },
        "id": "Re3wq8s2meKo",
        "outputId": "4f7621fb-5515-4361-fb7b-fc9dd6b92110"
      }
    },
    {
      "cell_type": "markdown",
      "source": [
        "## Add 7-day average column for new_deaths\n",
        "\n",
        "Calculate new columns with name 'new_deaths_ma7' with value of  7-day average of new_deaths column"
      ],
      "metadata": {
        "id": "iUnsCHj9HRfD"
      }
    },
    {
      "cell_type": "code",
      "execution_count": null,
      "source": [
        "data['new_deaths_ma7'] = ### FILL HERE WITH YOUR CODE\n",
        "display(data)"
      ],
      "outputs": [
        {
          "output_type": "display_data",
          "data": {
            "text/html": [
              "<div>\n",
              "<style scoped>\n",
              "    .dataframe tbody tr th:only-of-type {\n",
              "        vertical-align: middle;\n",
              "    }\n",
              "\n",
              "    .dataframe tbody tr th {\n",
              "        vertical-align: top;\n",
              "    }\n",
              "\n",
              "    .dataframe thead th {\n",
              "        text-align: right;\n",
              "    }\n",
              "</style>\n",
              "<table border=\"1\" class=\"dataframe\">\n",
              "  <thead>\n",
              "    <tr style=\"text-align: right;\">\n",
              "      <th></th>\n",
              "      <th>location</th>\n",
              "      <th>new_cases</th>\n",
              "      <th>new_deaths</th>\n",
              "      <th>new_cases_ma7</th>\n",
              "      <th>new_deaths_ma7</th>\n",
              "    </tr>\n",
              "    <tr>\n",
              "      <th>date</th>\n",
              "      <th></th>\n",
              "      <th></th>\n",
              "      <th></th>\n",
              "      <th></th>\n",
              "      <th></th>\n",
              "    </tr>\n",
              "  </thead>\n",
              "  <tbody>\n",
              "    <tr>\n",
              "      <th>2020-02-19</th>\n",
              "      <td>Iran</td>\n",
              "      <td>2.0</td>\n",
              "      <td>2.0</td>\n",
              "      <td>NaN</td>\n",
              "      <td>NaN</td>\n",
              "    </tr>\n",
              "    <tr>\n",
              "      <th>2020-02-20</th>\n",
              "      <td>Iran</td>\n",
              "      <td>3.0</td>\n",
              "      <td>0.0</td>\n",
              "      <td>NaN</td>\n",
              "      <td>NaN</td>\n",
              "    </tr>\n",
              "    <tr>\n",
              "      <th>2020-02-21</th>\n",
              "      <td>Iran</td>\n",
              "      <td>13.0</td>\n",
              "      <td>2.0</td>\n",
              "      <td>NaN</td>\n",
              "      <td>NaN</td>\n",
              "    </tr>\n",
              "    <tr>\n",
              "      <th>2020-02-22</th>\n",
              "      <td>Iran</td>\n",
              "      <td>10.0</td>\n",
              "      <td>1.0</td>\n",
              "      <td>NaN</td>\n",
              "      <td>NaN</td>\n",
              "    </tr>\n",
              "    <tr>\n",
              "      <th>2020-02-23</th>\n",
              "      <td>Iran</td>\n",
              "      <td>15.0</td>\n",
              "      <td>3.0</td>\n",
              "      <td>NaN</td>\n",
              "      <td>NaN</td>\n",
              "    </tr>\n",
              "    <tr>\n",
              "      <th>...</th>\n",
              "      <td>...</td>\n",
              "      <td>...</td>\n",
              "      <td>...</td>\n",
              "      <td>...</td>\n",
              "      <td>...</td>\n",
              "    </tr>\n",
              "    <tr>\n",
              "      <th>2021-08-13</th>\n",
              "      <td>Iran</td>\n",
              "      <td>39119.0</td>\n",
              "      <td>527.0</td>\n",
              "      <td>38102.000000</td>\n",
              "      <td>522.285714</td>\n",
              "    </tr>\n",
              "    <tr>\n",
              "      <th>2021-08-14</th>\n",
              "      <td>Iran</td>\n",
              "      <td>29700.0</td>\n",
              "      <td>466.0</td>\n",
              "      <td>38567.857143</td>\n",
              "      <td>533.571429</td>\n",
              "    </tr>\n",
              "    <tr>\n",
              "      <th>2021-08-15</th>\n",
              "      <td>Iran</td>\n",
              "      <td>36736.0</td>\n",
              "      <td>620.0</td>\n",
              "      <td>38156.000000</td>\n",
              "      <td>544.714286</td>\n",
              "    </tr>\n",
              "    <tr>\n",
              "      <th>2021-08-16</th>\n",
              "      <td>Iran</td>\n",
              "      <td>41194.0</td>\n",
              "      <td>655.0</td>\n",
              "      <td>38211.142857</td>\n",
              "      <td>554.285714</td>\n",
              "    </tr>\n",
              "    <tr>\n",
              "      <th>2021-08-17</th>\n",
              "      <td>Iran</td>\n",
              "      <td>50228.0</td>\n",
              "      <td>625.0</td>\n",
              "      <td>39795.285714</td>\n",
              "      <td>571.000000</td>\n",
              "    </tr>\n",
              "  </tbody>\n",
              "</table>\n",
              "<p>546 rows × 5 columns</p>\n",
              "</div>"
            ],
            "text/plain": [
              "           location  new_cases  new_deaths  new_cases_ma7  new_deaths_ma7\n",
              "date                                                                     \n",
              "2020-02-19     Iran        2.0         2.0            NaN             NaN\n",
              "2020-02-20     Iran        3.0         0.0            NaN             NaN\n",
              "2020-02-21     Iran       13.0         2.0            NaN             NaN\n",
              "2020-02-22     Iran       10.0         1.0            NaN             NaN\n",
              "2020-02-23     Iran       15.0         3.0            NaN             NaN\n",
              "...             ...        ...         ...            ...             ...\n",
              "2021-08-13     Iran    39119.0       527.0   38102.000000      522.285714\n",
              "2021-08-14     Iran    29700.0       466.0   38567.857143      533.571429\n",
              "2021-08-15     Iran    36736.0       620.0   38156.000000      544.714286\n",
              "2021-08-16     Iran    41194.0       655.0   38211.142857      554.285714\n",
              "2021-08-17     Iran    50228.0       625.0   39795.285714      571.000000\n",
              "\n",
              "[546 rows x 5 columns]"
            ]
          },
          "metadata": {
            "tags": []
          }
        }
      ],
      "metadata": {
        "colab": {
          "base_uri": "https://localhost:8080/",
          "height": 454
        },
        "id": "zwtFnE3w2Odu",
        "outputId": "eef18e18-a512-45db-ad3d-ae8b5050a396"
      }
    },
    {
      "cell_type": "markdown",
      "source": [
        "## Plot new_deaths & new_deaths_ma7"
      ],
      "metadata": {
        "id": "rFtREnwvHXSM"
      }
    },
    {
      "cell_type": "code",
      "execution_count": null,
      "source": [
        "import matplotlib.pyplot as plt\n",
        "\n",
        "# Color\n",
        "death_color = '#cf1111'\n",
        "\n",
        "#################################\n",
        "### FILL HERE WITH YOUR CODE\n",
        "#################################\n"
      ],
      "outputs": [
        {
          "output_type": "execute_result",
          "data": {
            "text/plain": [
              "Text(-20, 0, 'New\\ndeaths')"
            ]
          },
          "metadata": {
            "tags": []
          },
          "execution_count": 6
        },
        {
          "output_type": "display_data",
          "data": {
            "image/png": "[encoded data removed]",
            "text/plain": [
              "<Figure size 3000x1200 with 1 Axes>"
            ]
          },
          "metadata": {
            "tags": [],
            "needs_background": "light"
          }
        }
      ],
      "metadata": {
        "colab": {
          "base_uri": "https://localhost:8080/",
          "height": 582
        },
        "id": "UhKsJdz6n7QE",
        "outputId": "246bec7f-4837-4eba-8240-cff25ce09233"
      }
    },
    {
      "cell_type": "markdown",
      "source": [
        "## Calculate SUM Aggregation for all of data\n",
        "\n",
        "Calculate total cases using sum() function on 'new_cases' column"
      ],
      "metadata": {
        "id": "At74cd4yHkuT"
      }
    },
    {
      "cell_type": "code",
      "execution_count": null,
      "source": [
        "total_cases = ### FILL HERE WITH YOUR CODE\n",
        "print(total_cases)"
      ],
      "outputs": [
        {
          "output_type": "stream",
          "name": "stdout",
          "text": [
            "4517243.0\n"
          ]
        }
      ],
      "metadata": {
        "colab": {
          "base_uri": "https://localhost:8080/"
        },
        "id": "yH8Oy_7d2h3d",
        "outputId": "c53f1c4c-bb60-4310-e7eb-8e251820115e"
      }
    },
    {
      "cell_type": "markdown",
      "source": [
        "Calculate total deaths using sum() function on 'new_deaths' column"
      ],
      "metadata": {
        "id": "spnsy_icOLe-"
      }
    },
    {
      "cell_type": "code",
      "execution_count": null,
      "source": [
        "total_deaths = ### FILL HERE WITH YOUR CODE\n",
        "print(total_deaths)"
      ],
      "outputs": [
        {
          "output_type": "stream",
          "name": "stdout",
          "text": [
            "99108.0\n"
          ]
        }
      ],
      "metadata": {
        "colab": {
          "base_uri": "https://localhost:8080/"
        },
        "id": "vCN1UGTd2j9B",
        "outputId": "40dd382e-844a-4c89-f1eb-19053eb0be8d"
      }
    },
    {
      "cell_type": "markdown",
      "source": [
        "## Load vaccinations data"
      ],
      "metadata": {
        "id": "9o6GVN_mIFNc"
      }
    },
    {
      "cell_type": "code",
      "execution_count": null,
      "source": [
        "##############################################################\n",
        "###### DO NOT CHANGE THIS CELL\n",
        "##############################################################\n",
        "\n",
        "vaccinations_data = pd.read_csv(\n",
        "    vaccinations_url,\n",
        "    index_col=['date'],\n",
        "    parse_dates=['date'],\n",
        "    usecols=['date', 'location', 'daily_vaccinations'])\n",
        "\n",
        "display(vaccinations_data)"
      ],
      "outputs": [
        {
          "output_type": "display_data",
          "data": {
            "text/html": [
              "<div>\n",
              "<style scoped>\n",
              "    .dataframe tbody tr th:only-of-type {\n",
              "        vertical-align: middle;\n",
              "    }\n",
              "\n",
              "    .dataframe tbody tr th {\n",
              "        vertical-align: top;\n",
              "    }\n",
              "\n",
              "    .dataframe thead th {\n",
              "        text-align: right;\n",
              "    }\n",
              "</style>\n",
              "<table border=\"1\" class=\"dataframe\">\n",
              "  <thead>\n",
              "    <tr style=\"text-align: right;\">\n",
              "      <th></th>\n",
              "      <th>location</th>\n",
              "      <th>daily_vaccinations</th>\n",
              "    </tr>\n",
              "    <tr>\n",
              "      <th>date</th>\n",
              "      <th></th>\n",
              "      <th></th>\n",
              "    </tr>\n",
              "  </thead>\n",
              "  <tbody>\n",
              "    <tr>\n",
              "      <th>2021-02-22</th>\n",
              "      <td>Afghanistan</td>\n",
              "      <td>NaN</td>\n",
              "    </tr>\n",
              "    <tr>\n",
              "      <th>2021-02-23</th>\n",
              "      <td>Afghanistan</td>\n",
              "      <td>1367.0</td>\n",
              "    </tr>\n",
              "    <tr>\n",
              "      <th>2021-02-24</th>\n",
              "      <td>Afghanistan</td>\n",
              "      <td>1367.0</td>\n",
              "    </tr>\n",
              "    <tr>\n",
              "      <th>2021-02-25</th>\n",
              "      <td>Afghanistan</td>\n",
              "      <td>1367.0</td>\n",
              "    </tr>\n",
              "    <tr>\n",
              "      <th>2021-02-26</th>\n",
              "      <td>Afghanistan</td>\n",
              "      <td>1367.0</td>\n",
              "    </tr>\n",
              "    <tr>\n",
              "      <th>...</th>\n",
              "      <td>...</td>\n",
              "      <td>...</td>\n",
              "    </tr>\n",
              "    <tr>\n",
              "      <th>2021-08-13</th>\n",
              "      <td>Zimbabwe</td>\n",
              "      <td>56484.0</td>\n",
              "    </tr>\n",
              "    <tr>\n",
              "      <th>2021-08-14</th>\n",
              "      <td>Zimbabwe</td>\n",
              "      <td>54502.0</td>\n",
              "    </tr>\n",
              "    <tr>\n",
              "      <th>2021-08-15</th>\n",
              "      <td>Zimbabwe</td>\n",
              "      <td>57530.0</td>\n",
              "    </tr>\n",
              "    <tr>\n",
              "      <th>2021-08-16</th>\n",
              "      <td>Zimbabwe</td>\n",
              "      <td>57782.0</td>\n",
              "    </tr>\n",
              "    <tr>\n",
              "      <th>2021-08-17</th>\n",
              "      <td>Zimbabwe</td>\n",
              "      <td>68200.0</td>\n",
              "    </tr>\n",
              "  </tbody>\n",
              "</table>\n",
              "<p>41209 rows × 2 columns</p>\n",
              "</div>"
            ],
            "text/plain": [
              "               location  daily_vaccinations\n",
              "date                                       \n",
              "2021-02-22  Afghanistan                 NaN\n",
              "2021-02-23  Afghanistan              1367.0\n",
              "2021-02-24  Afghanistan              1367.0\n",
              "2021-02-25  Afghanistan              1367.0\n",
              "2021-02-26  Afghanistan              1367.0\n",
              "...                 ...                 ...\n",
              "2021-08-13     Zimbabwe             56484.0\n",
              "2021-08-14     Zimbabwe             54502.0\n",
              "2021-08-15     Zimbabwe             57530.0\n",
              "2021-08-16     Zimbabwe             57782.0\n",
              "2021-08-17     Zimbabwe             68200.0\n",
              "\n",
              "[41209 rows x 2 columns]"
            ]
          },
          "metadata": {
            "tags": []
          }
        }
      ],
      "metadata": {
        "colab": {
          "base_uri": "https://localhost:8080/",
          "height": 454
        },
        "id": "kWDsIr7y3Cde",
        "outputId": "c28c95cf-db20-4606-a485-192d42a8b507"
      }
    },
    {
      "cell_type": "markdown",
      "source": [
        "## Filter vaccinations data by location\n",
        "\n",
        "Remove rows of all locations except 'Iran' from vaccinations_data"
      ],
      "metadata": {
        "id": "ZDUN5aOCIKTy"
      }
    },
    {
      "cell_type": "code",
      "execution_count": null,
      "source": [
        "vaccinations_data = ### FILL HERE WITH YOUR CODE\r\n",
        "\r\n",
        "display(vaccinations_data)"
      ],
      "outputs": [
        {
          "output_type": "display_data",
          "data": {
            "text/html": [
              "<div>\n",
              "<style scoped>\n",
              "    .dataframe tbody tr th:only-of-type {\n",
              "        vertical-align: middle;\n",
              "    }\n",
              "\n",
              "    .dataframe tbody tr th {\n",
              "        vertical-align: top;\n",
              "    }\n",
              "\n",
              "    .dataframe thead th {\n",
              "        text-align: right;\n",
              "    }\n",
              "</style>\n",
              "<table border=\"1\" class=\"dataframe\">\n",
              "  <thead>\n",
              "    <tr style=\"text-align: right;\">\n",
              "      <th></th>\n",
              "      <th>location</th>\n",
              "      <th>daily_vaccinations</th>\n",
              "    </tr>\n",
              "    <tr>\n",
              "      <th>date</th>\n",
              "      <th></th>\n",
              "      <th></th>\n",
              "    </tr>\n",
              "  </thead>\n",
              "  <tbody>\n",
              "    <tr>\n",
              "      <th>2021-02-08</th>\n",
              "      <td>Iran</td>\n",
              "      <td>NaN</td>\n",
              "    </tr>\n",
              "    <tr>\n",
              "      <th>2021-02-09</th>\n",
              "      <td>Iran</td>\n",
              "      <td>3000.0</td>\n",
              "    </tr>\n",
              "    <tr>\n",
              "      <th>2021-02-10</th>\n",
              "      <td>Iran</td>\n",
              "      <td>1938.0</td>\n",
              "    </tr>\n",
              "    <tr>\n",
              "      <th>2021-02-11</th>\n",
              "      <td>Iran</td>\n",
              "      <td>1583.0</td>\n",
              "    </tr>\n",
              "    <tr>\n",
              "      <th>2021-02-12</th>\n",
              "      <td>Iran</td>\n",
              "      <td>1406.0</td>\n",
              "    </tr>\n",
              "    <tr>\n",
              "      <th>...</th>\n",
              "      <td>...</td>\n",
              "      <td>...</td>\n",
              "    </tr>\n",
              "    <tr>\n",
              "      <th>2021-08-05</th>\n",
              "      <td>Iran</td>\n",
              "      <td>415417.0</td>\n",
              "    </tr>\n",
              "    <tr>\n",
              "      <th>2021-08-06</th>\n",
              "      <td>Iran</td>\n",
              "      <td>448160.0</td>\n",
              "    </tr>\n",
              "    <tr>\n",
              "      <th>2021-08-07</th>\n",
              "      <td>Iran</td>\n",
              "      <td>480904.0</td>\n",
              "    </tr>\n",
              "    <tr>\n",
              "      <th>2021-08-08</th>\n",
              "      <td>Iran</td>\n",
              "      <td>513648.0</td>\n",
              "    </tr>\n",
              "    <tr>\n",
              "      <th>2021-08-09</th>\n",
              "      <td>Iran</td>\n",
              "      <td>546391.0</td>\n",
              "    </tr>\n",
              "  </tbody>\n",
              "</table>\n",
              "<p>183 rows × 2 columns</p>\n",
              "</div>"
            ],
            "text/plain": [
              "           location  daily_vaccinations\n",
              "date                                   \n",
              "2021-02-08     Iran                 NaN\n",
              "2021-02-09     Iran              3000.0\n",
              "2021-02-10     Iran              1938.0\n",
              "2021-02-11     Iran              1583.0\n",
              "2021-02-12     Iran              1406.0\n",
              "...             ...                 ...\n",
              "2021-08-05     Iran            415417.0\n",
              "2021-08-06     Iran            448160.0\n",
              "2021-08-07     Iran            480904.0\n",
              "2021-08-08     Iran            513648.0\n",
              "2021-08-09     Iran            546391.0\n",
              "\n",
              "[183 rows x 2 columns]"
            ]
          },
          "metadata": {
            "tags": []
          }
        }
      ],
      "metadata": {
        "colab": {
          "base_uri": "https://localhost:8080/",
          "height": 454
        },
        "id": "6yJwsEga5S7t",
        "outputId": "7ad65933-e9e8-42c0-974c-9ccdfca4e189"
      }
    },
    {
      "cell_type": "markdown",
      "source": [
        "## Replace Nan (null) values with zero\n",
        "\n",
        "Nan (null) values have negative impact on data analysis so remove them (replace with zero)\n",
        "\n",
        "Hint: use fillna() function"
      ],
      "metadata": {
        "id": "kdlSVmwCIRuq"
      }
    },
    {
      "cell_type": "code",
      "execution_count": null,
      "source": [
        "vaccinations_data['daily_vaccinations'] = ### FILL HERE WITH YOUR CODE\n",
        "\n",
        "display(vaccinations_data)"
      ],
      "outputs": [
        {
          "output_type": "display_data",
          "data": {
            "text/html": [
              "<div>\n",
              "<style scoped>\n",
              "    .dataframe tbody tr th:only-of-type {\n",
              "        vertical-align: middle;\n",
              "    }\n",
              "\n",
              "    .dataframe tbody tr th {\n",
              "        vertical-align: top;\n",
              "    }\n",
              "\n",
              "    .dataframe thead th {\n",
              "        text-align: right;\n",
              "    }\n",
              "</style>\n",
              "<table border=\"1\" class=\"dataframe\">\n",
              "  <thead>\n",
              "    <tr style=\"text-align: right;\">\n",
              "      <th></th>\n",
              "      <th>location</th>\n",
              "      <th>daily_vaccinations</th>\n",
              "    </tr>\n",
              "    <tr>\n",
              "      <th>date</th>\n",
              "      <th></th>\n",
              "      <th></th>\n",
              "    </tr>\n",
              "  </thead>\n",
              "  <tbody>\n",
              "    <tr>\n",
              "      <th>2021-02-08</th>\n",
              "      <td>Iran</td>\n",
              "      <td>0.0</td>\n",
              "    </tr>\n",
              "    <tr>\n",
              "      <th>2021-02-09</th>\n",
              "      <td>Iran</td>\n",
              "      <td>3000.0</td>\n",
              "    </tr>\n",
              "    <tr>\n",
              "      <th>2021-02-10</th>\n",
              "      <td>Iran</td>\n",
              "      <td>1938.0</td>\n",
              "    </tr>\n",
              "    <tr>\n",
              "      <th>2021-02-11</th>\n",
              "      <td>Iran</td>\n",
              "      <td>1583.0</td>\n",
              "    </tr>\n",
              "    <tr>\n",
              "      <th>2021-02-12</th>\n",
              "      <td>Iran</td>\n",
              "      <td>1406.0</td>\n",
              "    </tr>\n",
              "    <tr>\n",
              "      <th>...</th>\n",
              "      <td>...</td>\n",
              "      <td>...</td>\n",
              "    </tr>\n",
              "    <tr>\n",
              "      <th>2021-08-05</th>\n",
              "      <td>Iran</td>\n",
              "      <td>415417.0</td>\n",
              "    </tr>\n",
              "    <tr>\n",
              "      <th>2021-08-06</th>\n",
              "      <td>Iran</td>\n",
              "      <td>448160.0</td>\n",
              "    </tr>\n",
              "    <tr>\n",
              "      <th>2021-08-07</th>\n",
              "      <td>Iran</td>\n",
              "      <td>480904.0</td>\n",
              "    </tr>\n",
              "    <tr>\n",
              "      <th>2021-08-08</th>\n",
              "      <td>Iran</td>\n",
              "      <td>513648.0</td>\n",
              "    </tr>\n",
              "    <tr>\n",
              "      <th>2021-08-09</th>\n",
              "      <td>Iran</td>\n",
              "      <td>546391.0</td>\n",
              "    </tr>\n",
              "  </tbody>\n",
              "</table>\n",
              "<p>183 rows × 2 columns</p>\n",
              "</div>"
            ],
            "text/plain": [
              "           location  daily_vaccinations\n",
              "date                                   \n",
              "2021-02-08     Iran                 0.0\n",
              "2021-02-09     Iran              3000.0\n",
              "2021-02-10     Iran              1938.0\n",
              "2021-02-11     Iran              1583.0\n",
              "2021-02-12     Iran              1406.0\n",
              "...             ...                 ...\n",
              "2021-08-05     Iran            415417.0\n",
              "2021-08-06     Iran            448160.0\n",
              "2021-08-07     Iran            480904.0\n",
              "2021-08-08     Iran            513648.0\n",
              "2021-08-09     Iran            546391.0\n",
              "\n",
              "[183 rows x 2 columns]"
            ]
          },
          "metadata": {
            "tags": []
          }
        }
      ],
      "metadata": {
        "colab": {
          "base_uri": "https://localhost:8080/",
          "height": 454
        },
        "id": "AUFYl2825hvH",
        "outputId": "2833d887-9e99-4b12-dfac-53dbde943731"
      }
    },
    {
      "cell_type": "markdown",
      "source": [
        "## Join \"vaccination data\" and \"case & death data\"\n",
        "\n",
        "Join is one of most important ETL operations, you can read more on:\n",
        "\n",
        "https://www.w3schools.com/sql/sql_join.asp\n",
        "\n",
        "Join two dataframes: 'data' & 'vaccinations_data' on two columns ['date', 'location']"
      ],
      "metadata": {
        "id": "v0d2Y5eqIbID"
      }
    },
    {
      "cell_type": "code",
      "execution_count": null,
      "source": [
        "joined_data = pd.merge(data, vaccinations_data,  #FILL HERE WITH YOUR CODE\n",
        "                       )\n",
        "display(joined_data)"
      ],
      "outputs": [
        {
          "output_type": "display_data",
          "data": {
            "text/html": [
              "<div>\n",
              "<style scoped>\n",
              "    .dataframe tbody tr th:only-of-type {\n",
              "        vertical-align: middle;\n",
              "    }\n",
              "\n",
              "    .dataframe tbody tr th {\n",
              "        vertical-align: top;\n",
              "    }\n",
              "\n",
              "    .dataframe thead th {\n",
              "        text-align: right;\n",
              "    }\n",
              "</style>\n",
              "<table border=\"1\" class=\"dataframe\">\n",
              "  <thead>\n",
              "    <tr style=\"text-align: right;\">\n",
              "      <th></th>\n",
              "      <th>location</th>\n",
              "      <th>new_cases</th>\n",
              "      <th>new_deaths</th>\n",
              "      <th>new_cases_ma7</th>\n",
              "      <th>new_deaths_ma7</th>\n",
              "      <th>daily_vaccinations</th>\n",
              "    </tr>\n",
              "    <tr>\n",
              "      <th>date</th>\n",
              "      <th></th>\n",
              "      <th></th>\n",
              "      <th></th>\n",
              "      <th></th>\n",
              "      <th></th>\n",
              "      <th></th>\n",
              "    </tr>\n",
              "  </thead>\n",
              "  <tbody>\n",
              "    <tr>\n",
              "      <th>2021-02-08</th>\n",
              "      <td>Iran</td>\n",
              "      <td>7321.0</td>\n",
              "      <td>67.0</td>\n",
              "      <td>7022.857143</td>\n",
              "      <td>71.142857</td>\n",
              "      <td>0.0</td>\n",
              "    </tr>\n",
              "    <tr>\n",
              "      <th>2021-02-09</th>\n",
              "      <td>Iran</td>\n",
              "      <td>7640.0</td>\n",
              "      <td>89.0</td>\n",
              "      <td>7140.000000</td>\n",
              "      <td>73.571429</td>\n",
              "      <td>3000.0</td>\n",
              "    </tr>\n",
              "    <tr>\n",
              "      <th>2021-02-10</th>\n",
              "      <td>Iran</td>\n",
              "      <td>7585.0</td>\n",
              "      <td>61.0</td>\n",
              "      <td>7242.142857</td>\n",
              "      <td>71.000000</td>\n",
              "      <td>1938.0</td>\n",
              "    </tr>\n",
              "    <tr>\n",
              "      <th>2021-02-11</th>\n",
              "      <td>Iran</td>\n",
              "      <td>7474.0</td>\n",
              "      <td>65.0</td>\n",
              "      <td>7304.142857</td>\n",
              "      <td>70.714286</td>\n",
              "      <td>1583.0</td>\n",
              "    </tr>\n",
              "    <tr>\n",
              "      <th>2021-02-12</th>\n",
              "      <td>Iran</td>\n",
              "      <td>7298.0</td>\n",
              "      <td>58.0</td>\n",
              "      <td>7339.000000</td>\n",
              "      <td>67.571429</td>\n",
              "      <td>1406.0</td>\n",
              "    </tr>\n",
              "    <tr>\n",
              "      <th>...</th>\n",
              "      <td>...</td>\n",
              "      <td>...</td>\n",
              "      <td>...</td>\n",
              "      <td>...</td>\n",
              "      <td>...</td>\n",
              "      <td>...</td>\n",
              "    </tr>\n",
              "    <tr>\n",
              "      <th>2021-08-05</th>\n",
              "      <td>Iran</td>\n",
              "      <td>38674.0</td>\n",
              "      <td>434.0</td>\n",
              "      <td>33044.428571</td>\n",
              "      <td>364.857143</td>\n",
              "      <td>415417.0</td>\n",
              "    </tr>\n",
              "    <tr>\n",
              "      <th>2021-08-06</th>\n",
              "      <td>Iran</td>\n",
              "      <td>34913.0</td>\n",
              "      <td>458.0</td>\n",
              "      <td>34501.285714</td>\n",
              "      <td>391.714286</td>\n",
              "      <td>448160.0</td>\n",
              "    </tr>\n",
              "    <tr>\n",
              "      <th>2021-08-07</th>\n",
              "      <td>Iran</td>\n",
              "      <td>26439.0</td>\n",
              "      <td>387.0</td>\n",
              "      <td>35443.142857</td>\n",
              "      <td>406.142857</td>\n",
              "      <td>480904.0</td>\n",
              "    </tr>\n",
              "    <tr>\n",
              "      <th>2021-08-08</th>\n",
              "      <td>Iran</td>\n",
              "      <td>39619.0</td>\n",
              "      <td>542.0</td>\n",
              "      <td>36458.571429</td>\n",
              "      <td>431.285714</td>\n",
              "      <td>513648.0</td>\n",
              "    </tr>\n",
              "    <tr>\n",
              "      <th>2021-08-09</th>\n",
              "      <td>Iran</td>\n",
              "      <td>40808.0</td>\n",
              "      <td>588.0</td>\n",
              "      <td>36975.571429</td>\n",
              "      <td>456.571429</td>\n",
              "      <td>546391.0</td>\n",
              "    </tr>\n",
              "  </tbody>\n",
              "</table>\n",
              "<p>183 rows × 6 columns</p>\n",
              "</div>"
            ],
            "text/plain": [
              "           location  new_cases  ...  new_deaths_ma7  daily_vaccinations\n",
              "date                            ...                                    \n",
              "2021-02-08     Iran     7321.0  ...       71.142857                 0.0\n",
              "2021-02-09     Iran     7640.0  ...       73.571429              3000.0\n",
              "2021-02-10     Iran     7585.0  ...       71.000000              1938.0\n",
              "2021-02-11     Iran     7474.0  ...       70.714286              1583.0\n",
              "2021-02-12     Iran     7298.0  ...       67.571429              1406.0\n",
              "...             ...        ...  ...             ...                 ...\n",
              "2021-08-05     Iran    38674.0  ...      364.857143            415417.0\n",
              "2021-08-06     Iran    34913.0  ...      391.714286            448160.0\n",
              "2021-08-07     Iran    26439.0  ...      406.142857            480904.0\n",
              "2021-08-08     Iran    39619.0  ...      431.285714            513648.0\n",
              "2021-08-09     Iran    40808.0  ...      456.571429            546391.0\n",
              "\n",
              "[183 rows x 6 columns]"
            ]
          },
          "metadata": {
            "tags": []
          }
        }
      ],
      "metadata": {
        "colab": {
          "base_uri": "https://localhost:8080/",
          "height": 454
        },
        "id": "1g4ksS-X8QrE",
        "outputId": "3136c365-a50a-42b5-d936-5820155f572d"
      }
    },
    {
      "cell_type": "markdown",
      "source": [
        "## Calculate sum/avg/max/min MONTHLY Aggregation\n",
        "\n",
        "Aggregation is used to summarize data for better analysis and understanding. Aggregations have main role in generating reports & charts.\n",
        "\n",
        "\n",
        "Fill cells with sum of new_cases, new_deaths and daily_vaccinations columns per month.\n",
        "\n",
        "Hint: You can google this phrase: \"dataframe sum monthly group by\""
      ],
      "metadata": {
        "id": "dUK6qqRTIrcj"
      }
    },
    {
      "cell_type": "code",
      "execution_count": null,
      "source": [
        "sum_result = pd.DataFrame(### FILL HERE WITH YOUR CODE\n",
        "                          )\n",
        "\n",
        "print(\"Monthly SUM:\\n\")\n",
        "display(sum_result)"
      ],
      "outputs": [
        {
          "output_type": "stream",
          "name": "stdout",
          "text": [
            "Monthly SUM:\n",
            "\n"
          ]
        },
        {
          "output_type": "display_data",
          "data": {
            "text/html": [
              "<div>\n",
              "<style scoped>\n",
              "    .dataframe tbody tr th:only-of-type {\n",
              "        vertical-align: middle;\n",
              "    }\n",
              "\n",
              "    .dataframe tbody tr th {\n",
              "        vertical-align: top;\n",
              "    }\n",
              "\n",
              "    .dataframe thead th {\n",
              "        text-align: right;\n",
              "    }\n",
              "</style>\n",
              "<table border=\"1\" class=\"dataframe\">\n",
              "  <thead>\n",
              "    <tr style=\"text-align: right;\">\n",
              "      <th></th>\n",
              "      <th>new_cases</th>\n",
              "      <th>new_deaths</th>\n",
              "      <th>daily_vaccinations</th>\n",
              "    </tr>\n",
              "    <tr>\n",
              "      <th>date</th>\n",
              "      <th></th>\n",
              "      <th></th>\n",
              "      <th></th>\n",
              "    </tr>\n",
              "  </thead>\n",
              "  <tbody>\n",
              "    <tr>\n",
              "      <th>2021-02</th>\n",
              "      <td>164734.0</td>\n",
              "      <td>1604.0</td>\n",
              "      <td>46460.0</td>\n",
              "    </tr>\n",
              "    <tr>\n",
              "      <th>2021-03</th>\n",
              "      <td>254395.0</td>\n",
              "      <td>2592.0</td>\n",
              "      <td>280275.0</td>\n",
              "    </tr>\n",
              "    <tr>\n",
              "      <th>2021-04</th>\n",
              "      <td>613513.0</td>\n",
              "      <td>9093.0</td>\n",
              "      <td>580968.0</td>\n",
              "    </tr>\n",
              "    <tr>\n",
              "      <th>2021-05</th>\n",
              "      <td>414059.0</td>\n",
              "      <td>8398.0</td>\n",
              "      <td>2616431.0</td>\n",
              "    </tr>\n",
              "    <tr>\n",
              "      <th>2021-06</th>\n",
              "      <td>291421.0</td>\n",
              "      <td>4108.0</td>\n",
              "      <td>2007371.0</td>\n",
              "    </tr>\n",
              "    <tr>\n",
              "      <th>2021-07</th>\n",
              "      <td>666451.0</td>\n",
              "      <td>6366.0</td>\n",
              "      <td>5281766.0</td>\n",
              "    </tr>\n",
              "    <tr>\n",
              "      <th>2021-08</th>\n",
              "      <td>328529.0</td>\n",
              "      <td>3973.0</td>\n",
              "      <td>3767268.0</td>\n",
              "    </tr>\n",
              "  </tbody>\n",
              "</table>\n",
              "</div>"
            ],
            "text/plain": [
              "         new_cases  new_deaths  daily_vaccinations\n",
              "date                                              \n",
              "2021-02   164734.0      1604.0             46460.0\n",
              "2021-03   254395.0      2592.0            280275.0\n",
              "2021-04   613513.0      9093.0            580968.0\n",
              "2021-05   414059.0      8398.0           2616431.0\n",
              "2021-06   291421.0      4108.0           2007371.0\n",
              "2021-07   666451.0      6366.0           5281766.0\n",
              "2021-08   328529.0      3973.0           3767268.0"
            ]
          },
          "metadata": {
            "tags": []
          }
        }
      ],
      "metadata": {
        "colab": {
          "base_uri": "https://localhost:8080/",
          "height": 335
        },
        "id": "qZylM4M9DiTs",
        "outputId": "6db20de9-4eb1-4649-d3c3-21338f040694"
      }
    },
    {
      "cell_type": "markdown",
      "source": [
        "Fill cells with average (mean) of new_cases, new_deaths and daily_vaccinations columns per month."
      ],
      "metadata": {
        "id": "kozAYIJGS0CN"
      }
    },
    {
      "cell_type": "code",
      "execution_count": null,
      "source": [
        "avg_result = pd.DataFrame(### FILL HERE WITH YOUR CODE\n",
        "      )\n",
        "\n",
        "print(\"Monthly AVERAGE:\\n\")\n",
        "display(avg_result)"
      ],
      "outputs": [
        {
          "output_type": "stream",
          "name": "stdout",
          "text": [
            "Monthly AVERAGE:\n",
            "\n"
          ]
        },
        {
          "output_type": "display_data",
          "data": {
            "text/html": [
              "<div>\n",
              "<style scoped>\n",
              "    .dataframe tbody tr th:only-of-type {\n",
              "        vertical-align: middle;\n",
              "    }\n",
              "\n",
              "    .dataframe tbody tr th {\n",
              "        vertical-align: top;\n",
              "    }\n",
              "\n",
              "    .dataframe thead th {\n",
              "        text-align: right;\n",
              "    }\n",
              "</style>\n",
              "<table border=\"1\" class=\"dataframe\">\n",
              "  <thead>\n",
              "    <tr style=\"text-align: right;\">\n",
              "      <th></th>\n",
              "      <th>new_cases</th>\n",
              "      <th>new_deaths</th>\n",
              "      <th>daily_vaccinations</th>\n",
              "    </tr>\n",
              "    <tr>\n",
              "      <th>date</th>\n",
              "      <th></th>\n",
              "      <th></th>\n",
              "      <th></th>\n",
              "    </tr>\n",
              "  </thead>\n",
              "  <tbody>\n",
              "    <tr>\n",
              "      <th>2021-02</th>\n",
              "      <td>7844.476190</td>\n",
              "      <td>76.380952</td>\n",
              "      <td>2212.380952</td>\n",
              "    </tr>\n",
              "    <tr>\n",
              "      <th>2021-03</th>\n",
              "      <td>8206.290323</td>\n",
              "      <td>83.612903</td>\n",
              "      <td>9041.129032</td>\n",
              "    </tr>\n",
              "    <tr>\n",
              "      <th>2021-04</th>\n",
              "      <td>20450.433333</td>\n",
              "      <td>303.100000</td>\n",
              "      <td>19365.600000</td>\n",
              "    </tr>\n",
              "    <tr>\n",
              "      <th>2021-05</th>\n",
              "      <td>13356.741935</td>\n",
              "      <td>270.903226</td>\n",
              "      <td>84401.000000</td>\n",
              "    </tr>\n",
              "    <tr>\n",
              "      <th>2021-06</th>\n",
              "      <td>9714.033333</td>\n",
              "      <td>136.933333</td>\n",
              "      <td>66912.366667</td>\n",
              "    </tr>\n",
              "    <tr>\n",
              "      <th>2021-07</th>\n",
              "      <td>21498.419355</td>\n",
              "      <td>205.354839</td>\n",
              "      <td>170379.548387</td>\n",
              "    </tr>\n",
              "    <tr>\n",
              "      <th>2021-08</th>\n",
              "      <td>36503.222222</td>\n",
              "      <td>441.444444</td>\n",
              "      <td>418585.333333</td>\n",
              "    </tr>\n",
              "  </tbody>\n",
              "</table>\n",
              "</div>"
            ],
            "text/plain": [
              "            new_cases  new_deaths  daily_vaccinations\n",
              "date                                                 \n",
              "2021-02   7844.476190   76.380952         2212.380952\n",
              "2021-03   8206.290323   83.612903         9041.129032\n",
              "2021-04  20450.433333  303.100000        19365.600000\n",
              "2021-05  13356.741935  270.903226        84401.000000\n",
              "2021-06   9714.033333  136.933333        66912.366667\n",
              "2021-07  21498.419355  205.354839       170379.548387\n",
              "2021-08  36503.222222  441.444444       418585.333333"
            ]
          },
          "metadata": {
            "tags": []
          }
        }
      ],
      "metadata": {
        "colab": {
          "base_uri": "https://localhost:8080/",
          "height": 335
        },
        "id": "ak2PCc3h9Yjr",
        "outputId": "5b00f869-472e-4a50-e696-80908ce4be61"
      }
    },
    {
      "cell_type": "markdown",
      "source": [
        "Fill cells with max of new_cases, new_deaths and daily_vaccinations columns per month."
      ],
      "metadata": {
        "id": "pH4CM4xvS3Ti"
      }
    },
    {
      "cell_type": "code",
      "execution_count": null,
      "source": [
        "max_result = pd.DataFrame(### FILL HERE WITH YOUR CODE\n",
        "      )\n",
        "\n",
        "print(\"Monthly MAX:\\n\")\n",
        "display(max_result)"
      ],
      "outputs": [
        {
          "output_type": "stream",
          "name": "stdout",
          "text": [
            "Monthly MAX:\n",
            "\n"
          ]
        },
        {
          "output_type": "display_data",
          "data": {
            "text/html": [
              "<div>\n",
              "<style scoped>\n",
              "    .dataframe tbody tr th:only-of-type {\n",
              "        vertical-align: middle;\n",
              "    }\n",
              "\n",
              "    .dataframe tbody tr th {\n",
              "        vertical-align: top;\n",
              "    }\n",
              "\n",
              "    .dataframe thead th {\n",
              "        text-align: right;\n",
              "    }\n",
              "</style>\n",
              "<table border=\"1\" class=\"dataframe\">\n",
              "  <thead>\n",
              "    <tr style=\"text-align: right;\">\n",
              "      <th></th>\n",
              "      <th>new_cases</th>\n",
              "      <th>new_deaths</th>\n",
              "      <th>daily_vaccinations</th>\n",
              "    </tr>\n",
              "    <tr>\n",
              "      <th>date</th>\n",
              "      <th></th>\n",
              "      <th></th>\n",
              "      <th></th>\n",
              "    </tr>\n",
              "  </thead>\n",
              "  <tbody>\n",
              "    <tr>\n",
              "      <th>2021-02</th>\n",
              "      <td>8330.0</td>\n",
              "      <td>94.0</td>\n",
              "      <td>3806.0</td>\n",
              "    </tr>\n",
              "    <tr>\n",
              "      <th>2021-03</th>\n",
              "      <td>10330.0</td>\n",
              "      <td>108.0</td>\n",
              "      <td>24462.0</td>\n",
              "    </tr>\n",
              "    <tr>\n",
              "      <th>2021-04</th>\n",
              "      <td>25582.0</td>\n",
              "      <td>496.0</td>\n",
              "      <td>50809.0</td>\n",
              "    </tr>\n",
              "    <tr>\n",
              "      <th>2021-05</th>\n",
              "      <td>20732.0</td>\n",
              "      <td>394.0</td>\n",
              "      <td>116028.0</td>\n",
              "    </tr>\n",
              "    <tr>\n",
              "      <th>2021-06</th>\n",
              "      <td>12717.0</td>\n",
              "      <td>187.0</td>\n",
              "      <td>94138.0</td>\n",
              "    </tr>\n",
              "    <tr>\n",
              "      <th>2021-07</th>\n",
              "      <td>34951.0</td>\n",
              "      <td>357.0</td>\n",
              "      <td>308735.0</td>\n",
              "    </tr>\n",
              "    <tr>\n",
              "      <th>2021-08</th>\n",
              "      <td>40808.0</td>\n",
              "      <td>588.0</td>\n",
              "      <td>546391.0</td>\n",
              "    </tr>\n",
              "  </tbody>\n",
              "</table>\n",
              "</div>"
            ],
            "text/plain": [
              "         new_cases  new_deaths  daily_vaccinations\n",
              "date                                              \n",
              "2021-02     8330.0        94.0              3806.0\n",
              "2021-03    10330.0       108.0             24462.0\n",
              "2021-04    25582.0       496.0             50809.0\n",
              "2021-05    20732.0       394.0            116028.0\n",
              "2021-06    12717.0       187.0             94138.0\n",
              "2021-07    34951.0       357.0            308735.0\n",
              "2021-08    40808.0       588.0            546391.0"
            ]
          },
          "metadata": {
            "tags": []
          }
        }
      ],
      "metadata": {
        "colab": {
          "base_uri": "https://localhost:8080/",
          "height": 335
        },
        "id": "yAkubnQp_MZy",
        "outputId": "00ca982a-d1a5-48b9-ea22-7f7215401faf"
      }
    },
    {
      "cell_type": "markdown",
      "source": [
        "Fill cells with min of new_cases, new_deaths and daily_vaccinations columns per month."
      ],
      "metadata": {
        "id": "3o_NZddeS5Pp"
      }
    },
    {
      "cell_type": "code",
      "execution_count": null,
      "source": [
        "min_result = pd.DataFrame(### FILL HERE WITH YOUR CODE\n",
        "      )\n",
        "\n",
        "print(\"Monthly MIN:\\n\")\n",
        "display(min_result)"
      ],
      "outputs": [
        {
          "output_type": "stream",
          "name": "stdout",
          "text": [
            "Monthly MIN:\n",
            "\n"
          ]
        },
        {
          "output_type": "display_data",
          "data": {
            "text/html": [
              "<div>\n",
              "<style scoped>\n",
              "    .dataframe tbody tr th:only-of-type {\n",
              "        vertical-align: middle;\n",
              "    }\n",
              "\n",
              "    .dataframe tbody tr th {\n",
              "        vertical-align: top;\n",
              "    }\n",
              "\n",
              "    .dataframe thead th {\n",
              "        text-align: right;\n",
              "    }\n",
              "</style>\n",
              "<table border=\"1\" class=\"dataframe\">\n",
              "  <thead>\n",
              "    <tr style=\"text-align: right;\">\n",
              "      <th></th>\n",
              "      <th>new_cases</th>\n",
              "      <th>new_deaths</th>\n",
              "      <th>daily_vaccinations</th>\n",
              "    </tr>\n",
              "    <tr>\n",
              "      <th>date</th>\n",
              "      <th></th>\n",
              "      <th></th>\n",
              "      <th></th>\n",
              "    </tr>\n",
              "  </thead>\n",
              "  <tbody>\n",
              "    <tr>\n",
              "      <th>2021-02</th>\n",
              "      <td>7120.0</td>\n",
              "      <td>58.0</td>\n",
              "      <td>0.0</td>\n",
              "    </tr>\n",
              "    <tr>\n",
              "      <th>2021-03</th>\n",
              "      <td>7260.0</td>\n",
              "      <td>53.0</td>\n",
              "      <td>3806.0</td>\n",
              "    </tr>\n",
              "    <tr>\n",
              "      <th>2021-04</th>\n",
              "      <td>11420.0</td>\n",
              "      <td>94.0</td>\n",
              "      <td>7931.0</td>\n",
              "    </tr>\n",
              "    <tr>\n",
              "      <th>2021-05</th>\n",
              "      <td>7107.0</td>\n",
              "      <td>163.0</td>\n",
              "      <td>53148.0</td>\n",
              "    </tr>\n",
              "    <tr>\n",
              "      <th>2021-06</th>\n",
              "      <td>4907.0</td>\n",
              "      <td>108.0</td>\n",
              "      <td>25109.0</td>\n",
              "    </tr>\n",
              "    <tr>\n",
              "      <th>2021-07</th>\n",
              "      <td>8341.0</td>\n",
              "      <td>111.0</td>\n",
              "      <td>58015.0</td>\n",
              "    </tr>\n",
              "    <tr>\n",
              "      <th>2021-08</th>\n",
              "      <td>26439.0</td>\n",
              "      <td>366.0</td>\n",
              "      <td>312960.0</td>\n",
              "    </tr>\n",
              "  </tbody>\n",
              "</table>\n",
              "</div>"
            ],
            "text/plain": [
              "         new_cases  new_deaths  daily_vaccinations\n",
              "date                                              \n",
              "2021-02     7120.0        58.0                 0.0\n",
              "2021-03     7260.0        53.0              3806.0\n",
              "2021-04    11420.0        94.0              7931.0\n",
              "2021-05     7107.0       163.0             53148.0\n",
              "2021-06     4907.0       108.0             25109.0\n",
              "2021-07     8341.0       111.0             58015.0\n",
              "2021-08    26439.0       366.0            312960.0"
            ]
          },
          "metadata": {
            "tags": []
          }
        }
      ],
      "metadata": {
        "colab": {
          "base_uri": "https://localhost:8080/",
          "height": 335
        },
        "id": "SISpwMC-_oQC",
        "outputId": "401e0e5e-591b-4ba4-a6a2-56decaed1979"
      }
    }
  ]
}